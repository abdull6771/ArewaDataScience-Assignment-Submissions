{
  "nbformat": 4,
  "nbformat_minor": 0,
  "metadata": {
    "colab": {
      "provenance": []
    },
    "kernelspec": {
      "name": "python3",
      "display_name": "Python 3"
    },
    "language_info": {
      "name": "python"
    }
  },
  "cells": [
    {
      "cell_type": "markdown",
      "source": [
        "Arewa Data Science Academy\n"
      ],
      "metadata": {
        "id": "BVX9Nuwl3-Cb"
      }
    },
    {
      "cell_type": "markdown",
      "source": [
        "Deep Learning Cohort1.0"
      ],
      "metadata": {
        "id": "-pN_MMQi4U9k"
      }
    },
    {
      "cell_type": "markdown",
      "source": [
        "Name:  Abdullahi Ahmad"
      ],
      "metadata": {
        "id": "NXnlsMl14YXm"
      }
    },
    {
      "cell_type": "markdown",
      "source": [
        "Email: abdulll8392@gmail.com"
      ],
      "metadata": {
        "id": "ffXvye424Yjf"
      }
    },
    {
      "cell_type": "markdown",
      "source": [
        "Title: Week 1 Solution"
      ],
      "metadata": {
        "id": "THBEfyPG4iU5"
      }
    },
    {
      "cell_type": "markdown",
      "source": [
        "Exercises Solution"
      ],
      "metadata": {
        "id": "fz6wVV4u4npx"
      }
    },
    {
      "cell_type": "markdown",
      "source": [
        " 1) Create a random tensor with shape (7, 7)"
      ],
      "metadata": {
        "id": "4hbyrE8l4-1l"
      }
    },
    {
      "cell_type": "code",
      "source": [
        "#Solution\n",
        "import torch #importing the pytorch\n",
        "\n",
        "tensor_random = torch.rand((7,7)) #specifying the shape with is 7,7\n",
        "\n",
        "print(tensor_random)"
      ],
      "metadata": {
        "colab": {
          "base_uri": "https://localhost:8080/"
        },
        "id": "Zc2T84o_4jfV",
        "outputId": "57f1b33c-4293-4aec-91e6-f98bf09acd8e"
      },
      "execution_count": 2,
      "outputs": [
        {
          "output_type": "stream",
          "name": "stdout",
          "text": [
            "tensor([[0.3315, 0.3765, 0.2812, 0.0876, 0.7503, 0.5333, 0.1909],\n",
            "        [0.7413, 0.9086, 0.1033, 0.2663, 0.4166, 0.6682, 0.0345],\n",
            "        [0.2555, 0.9133, 0.4498, 0.1540, 0.3311, 0.1628, 0.1795],\n",
            "        [0.1812, 0.3914, 0.3466, 0.1357, 0.5269, 0.9333, 0.2722],\n",
            "        [0.5040, 0.8829, 0.5971, 0.1175, 0.9955, 0.7124, 0.6587],\n",
            "        [0.9399, 0.0077, 0.1152, 0.5529, 0.8745, 0.9115, 0.4949],\n",
            "        [0.8906, 0.4216, 0.9711, 0.8020, 0.7504, 0.6623, 0.3465]])\n"
          ]
        }
      ]
    },
    {
      "cell_type": "markdown",
      "source": [
        "3. Perform a matrix multiplication on the tensor from 2 with another random tensor with shape (1, 7) (hint: you may have to transpose the second tensor)."
      ],
      "metadata": {
        "id": "xL3o3-w8527o"
      }
    },
    {
      "cell_type": "code",
      "source": [
        "second_tensor = torch.rand((1,7))\n",
        "\n",
        "transpose_tensor = torch.transpose(second_tensor,0,1)\n",
        "print(transpose_tensor)"
      ],
      "metadata": {
        "colab": {
          "base_uri": "https://localhost:8080/"
        },
        "id": "xf0t-Gj056gQ",
        "outputId": "b2f5104b-842e-44dc-f97d-a21869235276"
      },
      "execution_count": 5,
      "outputs": [
        {
          "output_type": "stream",
          "name": "stdout",
          "text": [
            "tensor([[0.8071],\n",
            "        [0.7659],\n",
            "        [0.8019],\n",
            "        [0.0806],\n",
            "        [0.6702],\n",
            "        [0.4216],\n",
            "        [0.3141]])\n"
          ]
        }
      ]
    },
    {
      "cell_type": "code",
      "source": [
        "mult_tensor = torch.mm(tensor_random,transpose_tensor,out=None)"
      ],
      "metadata": {
        "id": "5Rvj5McC61Rc"
      },
      "execution_count": 6,
      "outputs": []
    },
    {
      "cell_type": "code",
      "source": [
        "print(mult_tensor)"
      ],
      "metadata": {
        "colab": {
          "base_uri": "https://localhost:8080/"
        },
        "id": "grgXZX6361at",
        "outputId": "09aeac1c-09ed-4643-c5d3-7dab97c1fcd4"
      },
      "execution_count": 7,
      "outputs": [
        {
          "output_type": "stream",
          "name": "stdout",
          "text": [
            "tensor([[1.5760],\n",
            "        [1.9702],\n",
            "        [1.6258],\n",
            "        [1.5669],\n",
            "        [2.7457],\n",
            "        [2.0273],\n",
            "        [2.7761]])\n"
          ]
        }
      ]
    },
    {
      "cell_type": "markdown",
      "source": [
        "4. Set the random seed to 0 and do 2 & 3 over again."
      ],
      "metadata": {
        "id": "mXzNy2Sh8QLV"
      }
    },
    {
      "cell_type": "code",
      "source": [
        "random_seed = 0\n",
        "torch.manual_seed(random_seed)\n",
        "tensor_random = torch.rand((7,7))\n",
        "print(tensor_random)\n"
      ],
      "metadata": {
        "colab": {
          "base_uri": "https://localhost:8080/"
        },
        "id": "WasYUkQC61no",
        "outputId": "9a360180-3fbe-435c-c7c7-d1761e825e79"
      },
      "execution_count": 12,
      "outputs": [
        {
          "output_type": "stream",
          "name": "stdout",
          "text": [
            "tensor([[0.4963, 0.7682, 0.0885, 0.1320, 0.3074, 0.6341, 0.4901],\n",
            "        [0.8964, 0.4556, 0.6323, 0.3489, 0.4017, 0.0223, 0.1689],\n",
            "        [0.2939, 0.5185, 0.6977, 0.8000, 0.1610, 0.2823, 0.6816],\n",
            "        [0.9152, 0.3971, 0.8742, 0.4194, 0.5529, 0.9527, 0.0362],\n",
            "        [0.1852, 0.3734, 0.3051, 0.9320, 0.1759, 0.2698, 0.1507],\n",
            "        [0.0317, 0.2081, 0.9298, 0.7231, 0.7423, 0.5263, 0.2437],\n",
            "        [0.5846, 0.0332, 0.1387, 0.2422, 0.8155, 0.7932, 0.2783]])\n"
          ]
        }
      ]
    },
    {
      "cell_type": "code",
      "source": [
        "torch.manual_seed(random_seed)\n",
        "second_tensor = torch.rand((1,7))\n",
        "transpose_tensor = torch.transpose(second_tensor,0,1)\n",
        "print(transpose_tensor)"
      ],
      "metadata": {
        "colab": {
          "base_uri": "https://localhost:8080/"
        },
        "id": "bn6W1oif61t1",
        "outputId": "271f8e76-24be-46da-d4a9-01b37b9cf1fb"
      },
      "execution_count": 14,
      "outputs": [
        {
          "output_type": "stream",
          "name": "stdout",
          "text": [
            "tensor([[0.4963],\n",
            "        [0.7682],\n",
            "        [0.0885],\n",
            "        [0.1320],\n",
            "        [0.3074],\n",
            "        [0.6341],\n",
            "        [0.4901]])\n"
          ]
        }
      ]
    },
    {
      "cell_type": "code",
      "source": [
        "mult_tensor = torch.mm(tensor_random,transpose_tensor,out=None)\n",
        "print(mult_tensor)"
      ],
      "metadata": {
        "colab": {
          "base_uri": "https://localhost:8080/"
        },
        "id": "roeBEcjL9o3B",
        "outputId": "aba80c37-2fb4-4597-ea7f-5e1493719a27"
      },
      "execution_count": 16,
      "outputs": [
        {
          "output_type": "stream",
          "name": "stdout",
          "text": [
            "tensor([[1.5985],\n",
            "        [1.1173],\n",
            "        [1.2741],\n",
            "        [1.6838],\n",
            "        [0.8279],\n",
            "        [1.0347],\n",
            "        [1.2498]])\n"
          ]
        }
      ]
    },
    {
      "cell_type": "markdown",
      "source": [
        "5. Speaking of random seeds, we saw how to set it with torch.manual_seed() but is there a GPU equivalent? (hint: you'll need to look into the documentation for torch.cuda for this one)"
      ],
      "metadata": {
        "id": "1BS_aHjr-OCi"
      }
    },
    {
      "cell_type": "code",
      "source": [
        "random_seed = 1234\n",
        "torch.manual_seed(random_seed)\n",
        "tensor_GPU_rand = torch.rand((7,7))\n",
        "print(tensor_GPU_rand)"
      ],
      "metadata": {
        "colab": {
          "base_uri": "https://localhost:8080/"
        },
        "id": "5Huf97me-hIT",
        "outputId": "99099b66-74bc-49de-ab3a-a94ced540820"
      },
      "execution_count": 17,
      "outputs": [
        {
          "output_type": "stream",
          "name": "stdout",
          "text": [
            "tensor([[0.0290, 0.4019, 0.2598, 0.3666, 0.0583, 0.7006, 0.0518],\n",
            "        [0.4681, 0.6738, 0.3315, 0.7837, 0.5631, 0.7749, 0.8208],\n",
            "        [0.2793, 0.6817, 0.2837, 0.6567, 0.2388, 0.7313, 0.6012],\n",
            "        [0.3043, 0.2548, 0.6294, 0.9665, 0.7399, 0.4517, 0.4757],\n",
            "        [0.7842, 0.1525, 0.6662, 0.3343, 0.7893, 0.3216, 0.5247],\n",
            "        [0.6688, 0.8436, 0.4265, 0.9561, 0.0770, 0.4108, 0.0014],\n",
            "        [0.5414, 0.6419, 0.2976, 0.7077, 0.4189, 0.0655, 0.8839]])\n"
          ]
        }
      ]
    },
    {
      "cell_type": "markdown",
      "source": [
        "Create two random tensors of shape (2, 3) and send them both to the GPU (you'll need access to a GPU for this). Set torch.manual_seed(1234) when creating the tensors (this doesn't have to be the GPU random seed)."
      ],
      "metadata": {
        "id": "ROOA8_vo_Lcz"
      }
    },
    {
      "cell_type": "code",
      "source": [
        "random_seed = 1234\n",
        "torch.manual_seed(random_seed)\n",
        "rand_1 = torch.rand((2,3))\n",
        "rand_2 = torch.rand((2,3))"
      ],
      "metadata": {
        "id": "5l5glRK__Itq"
      },
      "execution_count": 18,
      "outputs": []
    },
    {
      "cell_type": "code",
      "source": [
        "print(rand_1)\n",
        "print(rand_2)"
      ],
      "metadata": {
        "colab": {
          "base_uri": "https://localhost:8080/"
        },
        "id": "NfGd068P_Iww",
        "outputId": "728a57e1-1959-498c-b37b-731e152e36d2"
      },
      "execution_count": 19,
      "outputs": [
        {
          "output_type": "stream",
          "name": "stdout",
          "text": [
            "tensor([[0.0290, 0.4019, 0.2598],\n",
            "        [0.3666, 0.0583, 0.7006]])\n",
            "tensor([[0.0518, 0.4681, 0.6738],\n",
            "        [0.3315, 0.7837, 0.5631]])\n"
          ]
        }
      ]
    },
    {
      "cell_type": "markdown",
      "source": [
        "7. Perform a matrix multiplication on the tensors you created in 6 (again, you may have to adjust the shapes of one of the tensors)."
      ],
      "metadata": {
        "id": "eAMkkK8__9F6"
      }
    },
    {
      "cell_type": "code",
      "source": [
        "rand_1 = torch.rand((2,3))\n",
        "rand_2 = torch.rand((2,3))"
      ],
      "metadata": {
        "id": "X3DAZCRW__W2"
      },
      "execution_count": null,
      "outputs": []
    },
    {
      "cell_type": "code",
      "source": [
        "#reshaping the second tensor before performing the calculations\n",
        "rand_2 = torch.reshape(rand_2,(3,2))"
      ],
      "metadata": {
        "id": "I8_aE4IH__jQ"
      },
      "execution_count": 20,
      "outputs": []
    },
    {
      "cell_type": "code",
      "source": [
        "mult_rand = torch.mm(rand_1,rand_2)"
      ],
      "metadata": {
        "id": "QTJbW2OdAbSj"
      },
      "execution_count": 21,
      "outputs": []
    },
    {
      "cell_type": "code",
      "source": [
        "print(mult_rand)"
      ],
      "metadata": {
        "colab": {
          "base_uri": "https://localhost:8080/"
        },
        "id": "k5IMZVZEAbY_",
        "outputId": "33e39bd9-009a-4757-cd60-5e9e2d004874"
      },
      "execution_count": 22,
      "outputs": [
        {
          "output_type": "stream",
          "name": "stdout",
          "text": [
            "tensor([[0.4759, 0.2931],\n",
            "        [0.6074, 0.5855]])\n"
          ]
        }
      ]
    },
    {
      "cell_type": "markdown",
      "source": [
        "8. Find the maximum and minimum values of the output of 7."
      ],
      "metadata": {
        "id": "4zuYB2zbAuAM"
      }
    },
    {
      "cell_type": "code",
      "source": [
        "min_7 = torch.min(mult_rand)\n",
        "print(min_7)"
      ],
      "metadata": {
        "colab": {
          "base_uri": "https://localhost:8080/"
        },
        "id": "lUe7x7kSAwXt",
        "outputId": "6a3741a4-e3ce-4569-be25-91e03a3e273d"
      },
      "execution_count": 23,
      "outputs": [
        {
          "output_type": "stream",
          "name": "stdout",
          "text": [
            "tensor(0.2931)\n"
          ]
        }
      ]
    },
    {
      "cell_type": "code",
      "source": [
        "max_7 = torch.max(mult_rand)\n",
        "print(max_7)"
      ],
      "metadata": {
        "colab": {
          "base_uri": "https://localhost:8080/"
        },
        "id": "XObF4jWTAbcL",
        "outputId": "c7db1daa-09c3-4877-81bb-b10464b4bccd"
      },
      "execution_count": 24,
      "outputs": [
        {
          "output_type": "stream",
          "name": "stdout",
          "text": [
            "tensor(0.6074)\n"
          ]
        }
      ]
    },
    {
      "cell_type": "markdown",
      "source": [
        "9. Find the maximum and minimum index values of the output of 7."
      ],
      "metadata": {
        "id": "wgsiOxfABSs3"
      }
    },
    {
      "cell_type": "code",
      "source": [
        "min_arg_7 = torch.argmin(mult_rand)\n",
        "print(min_arg_7)"
      ],
      "metadata": {
        "colab": {
          "base_uri": "https://localhost:8080/"
        },
        "id": "1YfO-k2SBT9v",
        "outputId": "7cc406b1-aab6-46a7-b7cb-a99cf888c5a8"
      },
      "execution_count": 25,
      "outputs": [
        {
          "output_type": "stream",
          "name": "stdout",
          "text": [
            "tensor(1)\n"
          ]
        }
      ]
    },
    {
      "cell_type": "code",
      "source": [
        "max_arg_7 = torch.argmax(mult_rand)\n",
        "print(max_arg_7)"
      ],
      "metadata": {
        "colab": {
          "base_uri": "https://localhost:8080/"
        },
        "id": "7J7EeO0UBeY8",
        "outputId": "1f276ea5-66a7-49d3-8fe3-ea26858428d9"
      },
      "execution_count": 26,
      "outputs": [
        {
          "output_type": "stream",
          "name": "stdout",
          "text": [
            "tensor(2)\n"
          ]
        }
      ]
    },
    {
      "cell_type": "markdown",
      "source": [
        "10. Make a random tensor with shape (1, 1, 1, 10) and then create a new tensor with all the 1 dimensions removed to be left with a tensor of shape (10). Set the seed to 7 when you create it and print out the first tensor and it's shape as well as the second tensor and it's shape."
      ],
      "metadata": {
        "id": "-2sRVyE7BwPb"
      }
    },
    {
      "cell_type": "code",
      "source": [
        "# Set seed\n",
        "random_seed = 7\n",
        "torch.manual_seed(random_seed)\n",
        "\n",
        "# Create random tensor\n",
        "rand_tens = torch.rand(1,1,1,10)\n",
        "\n",
        "# Remove single dimensions\n",
        "new_tens = rand_tens.squeeze()\n",
        "\n",
        "# Print out tensors and their shapes\n",
        "print(rand_tens , rand_tens.shape)\n",
        "print(new_tens , new_tens.shape)"
      ],
      "metadata": {
        "colab": {
          "base_uri": "https://localhost:8080/"
        },
        "id": "VTm0R3exBvTZ",
        "outputId": "1f6bddf9-b188-432d-a0e8-c74728c6e0d9"
      },
      "execution_count": 28,
      "outputs": [
        {
          "output_type": "stream",
          "name": "stdout",
          "text": [
            "tensor([[[[0.5349, 0.1988, 0.6592, 0.6569, 0.2328, 0.4251, 0.2071, 0.6297,\n",
            "           0.3653, 0.8513]]]]) torch.Size([1, 1, 1, 10])\n",
            "tensor([0.5349, 0.1988, 0.6592, 0.6569, 0.2328, 0.4251, 0.2071, 0.6297, 0.3653,\n",
            "        0.8513]) torch.Size([10])\n"
          ]
        }
      ]
    },
    {
      "cell_type": "code",
      "source": [],
      "metadata": {
        "id": "VRoRRgRXBkaD"
      },
      "execution_count": null,
      "outputs": []
    },
    {
      "cell_type": "markdown",
      "source": [],
      "metadata": {
        "id": "m0gGElu947X_"
      }
    }
  ]
}