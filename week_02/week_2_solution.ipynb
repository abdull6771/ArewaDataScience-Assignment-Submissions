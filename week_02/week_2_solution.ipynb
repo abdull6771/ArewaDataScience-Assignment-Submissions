{
  "nbformat": 4,
  "nbformat_minor": 0,
  "metadata": {
    "colab": {
      "provenance": [],
      "gpuType": "T4"
    },
    "kernelspec": {
      "name": "python3",
      "display_name": "Python 3"
    },
    "language_info": {
      "name": "python"
    },
    "accelerator": "GPU"
  },
  "cells": [
    {
      "cell_type": "markdown",
      "source": [
        "Arewa Data Science Academy\n",
        "\n",
        "Deep Learning Cohort1.0\n",
        "\n",
        "Name: Abdullahi Ahmad\n",
        "\n",
        "Email: abdulll8392@gmail.com\n",
        "\n",
        "Title: Week 2 Solution\n",
        "\n",
        "Exercises Solution"
      ],
      "metadata": {
        "id": "MVYXKtS0OUr2"
      }
    },
    {
      "cell_type": "code",
      "source": [
        "#importing Required Dependencies\n",
        "import torch\n",
        "import matplotlib.pyplot as plt #data visualization\n",
        "from torch import nn"
      ],
      "metadata": {
        "id": "jl0p6F-dObI0"
      },
      "execution_count": 19,
      "outputs": []
    },
    {
      "cell_type": "code",
      "source": [
        "# Setup device-agnostic code\n",
        "device = \"cuda\" if torch.cuda.is_available() else \"cpu\"\n",
        "print(device) #it will print cuda because am running the notebook on collab T4 GPU"
      ],
      "metadata": {
        "colab": {
          "base_uri": "https://localhost:8080/"
        },
        "id": "GKVvUeiMObTP",
        "outputId": "71b61b9c-f865-4ebd-fbfd-a509e9d63412"
      },
      "execution_count": 2,
      "outputs": [
        {
          "output_type": "stream",
          "name": "stdout",
          "text": [
            "cuda\n"
          ]
        }
      ]
    },
    {
      "cell_type": "markdown",
      "source": [
        "1. Create a straight line dataset using the linear regression formula (weight * X + bias)."
      ],
      "metadata": {
        "id": "9h2uLWE9P14_"
      }
    },
    {
      "cell_type": "markdown",
      "source": [
        "Set weight=0.3 and bias=0.9 there should be at least 100 datapoints total.\n",
        "Split the data into 80% training, 20% testing.\n",
        "Plot the training and testing data so it becomes visual."
      ],
      "metadata": {
        "id": "MrilTPpCQE6E"
      }
    },
    {
      "cell_type": "code",
      "source": [
        "#parameters\n",
        "weig = 0.3\n",
        "b = 0.9"
      ],
      "metadata": {
        "id": "mN8-sD6IObYh"
      },
      "execution_count": 3,
      "outputs": []
    },
    {
      "cell_type": "code",
      "source": [
        "# Make X and y using linear regression feature\n",
        "x = torch.arange(0,1,0.01).unsqueeze(dim = 1) # x will be in the range of 0,1,0.01 because we need 100 datapoint\n",
        "y = weig * x + b"
      ],
      "metadata": {
        "id": "rAvY0gjnObg0"
      },
      "execution_count": 9,
      "outputs": []
    },
    {
      "cell_type": "code",
      "source": [
        "print(f\"Number of X samples: {len(x)}\")\n",
        "print(f\"Number of y samples: {len(y)}\")\n",
        "print(f\"First 10 X & y samples:\\nX: {x[:10]}\\ny: {y[:10]}\")"
      ],
      "metadata": {
        "colab": {
          "base_uri": "https://localhost:8080/"
        },
        "id": "LyiQuQPKQXrV",
        "outputId": "75913e14-e87d-44d8-9ca8-16b2681556e0"
      },
      "execution_count": 10,
      "outputs": [
        {
          "output_type": "stream",
          "name": "stdout",
          "text": [
            "Number of X samples: 100\n",
            "Number of y samples: 100\n",
            "First 10 X & y samples:\n",
            "X: tensor([[0.0000],\n",
            "        [0.0100],\n",
            "        [0.0200],\n",
            "        [0.0300],\n",
            "        [0.0400],\n",
            "        [0.0500],\n",
            "        [0.0600],\n",
            "        [0.0700],\n",
            "        [0.0800],\n",
            "        [0.0900]])\n",
            "y: tensor([[0.9000],\n",
            "        [0.9030],\n",
            "        [0.9060],\n",
            "        [0.9090],\n",
            "        [0.9120],\n",
            "        [0.9150],\n",
            "        [0.9180],\n",
            "        [0.9210],\n",
            "        [0.9240],\n",
            "        [0.9270]])\n"
          ]
        }
      ]
    },
    {
      "cell_type": "code",
      "source": [
        "# Split the data into training and testing\n",
        "train = int(len(x) * 0.8)\n",
        "#training data and labels\n",
        "X_train = x[:train]\n",
        "y_train = y[:train]\n",
        "#test data and labels\n",
        "X_test = x[train:]\n",
        "y_test = y[train:]"
      ],
      "metadata": {
        "id": "Jsp3AEJ8QXuW"
      },
      "execution_count": 11,
      "outputs": []
    },
    {
      "cell_type": "markdown",
      "source": [
        "Ploting the prediction"
      ],
      "metadata": {
        "id": "m_aj-PxASSRU"
      }
    },
    {
      "cell_type": "code",
      "source": [
        "# Plot the training and testing data\n",
        "def plot(train_data = X_train,train_labels = y_train,test_data = X_test,test_labels = y_test,predictions = None):\n",
        "  plt.figure(figsize = (10,7))\n",
        "  plt.scatter(train_data,train_labels,c = 'r',s = 4,label = \"Training data\")\n",
        "  plt.scatter(test_data,test_labels,c = 'g',s = 4,label = \"Test data\")\n",
        "\n"
      ],
      "metadata": {
        "id": "25ZQZ12VQXxk"
      },
      "execution_count": 21,
      "outputs": []
    },
    {
      "cell_type": "code",
      "source": [
        "plot() #calling the fuction to display the result"
      ],
      "metadata": {
        "colab": {
          "base_uri": "https://localhost:8080/",
          "height": 599
        },
        "id": "glNnFzs0QX45",
        "outputId": "a2f020c7-f5e0-4290-fb02-3a6adbc0bdf3"
      },
      "execution_count": 22,
      "outputs": [
        {
          "output_type": "display_data",
          "data": {
            "text/plain": [
              "<Figure size 1000x700 with 1 Axes>"
            ],
            "image/png": "[encoded data removed]"
          },
          "metadata": {}
        }
      ]
    },
    {
      "cell_type": "markdown",
      "source": [
        "2. Build a PyTorch model by subclassing nn.Module."
      ],
      "metadata": {
        "id": "sD3nFk3sTyBZ"
      }
    },
    {
      "cell_type": "markdown",
      "source": [
        "1-Inside should be a randomly initialized nn.Parameter() with requires_grad=True, one for weights and one for bias.\n",
        "\n",
        "2-Implement the forward() method to compute the linear regression function you used to create the dataset in 1.\n",
        "\n",
        "3-Once you've constructed the model, make an instance of it and check its state_dict().\n",
        "\n",
        "Note: If you'd like to use nn.Linear() instead of nn.Parameter() you can."
      ],
      "metadata": {
        "id": "9TkjUm22T-eO"
      }
    },
    {
      "cell_type": "code",
      "source": [
        "# Creating PyTorch linear regression model by using subclassing nn.Module\n",
        "class LinearRegressionModel(nn.Module):\n",
        "  def __init__(self):\n",
        "    super().__init__() #using super to inherit from the torch class\n",
        "    self.weight = nn.Parameter(data=torch.randn(1,\n",
        "                                              requires_grad=True,\n",
        "                                              dtype=torch.float\n",
        "                                              ))\n",
        "\n",
        "    self.bias = nn.Parameter(data=torch.randn(1,\n",
        "                                              requires_grad=True,\n",
        "                                              dtype=torch.float\n",
        "                                              ))\n",
        "#mplement the forward() method to compute the linear regression function you used to create the dataset\n",
        "  def forward(self, x):\n",
        "    return self.weight * x + self.bias #computing the linear regression using weight,x,bias as features"
      ],
      "metadata": {
        "id": "OpASHGZfTsAS"
      },
      "execution_count": 23,
      "outputs": []
    },
    {
      "cell_type": "code",
      "source": [
        "torch.manual_seed(50)\n",
        "model = LinearRegressionModel() #initializing the linear regression class\n",
        "print(model)\n",
        "print(model.state_dict())"
      ],
      "metadata": {
        "colab": {
          "base_uri": "https://localhost:8080/"
        },
        "id": "pEG2iT7-TsNL",
        "outputId": "c1d1b510-86b9-4304-8c07-58855c954e00"
      },
      "execution_count": 26,
      "outputs": [
        {
          "output_type": "stream",
          "name": "stdout",
          "text": [
            "LinearRegressionModel()\n",
            "OrderedDict([('weight', tensor([0.4625])), ('bias', tensor([-0.1692]))])\n"
          ]
        }
      ]
    },
    {
      "cell_type": "code",
      "source": [
        "# Instantiate the model and put it to the target device\n",
        "model.to(device) #am using colab GPU so my target device is cuda\n",
        "list(model.parameters())"
      ],
      "metadata": {
        "colab": {
          "base_uri": "https://localhost:8080/"
        },
        "id": "rVpsG2iyTsQD",
        "outputId": "7a92cff9-0ab5-43b2-8c70-018bbb1aa002"
      },
      "execution_count": 28,
      "outputs": [
        {
          "output_type": "execute_result",
          "data": {
            "text/plain": [
              "[Parameter containing:\n",
              " tensor([0.4625], device='cuda:0', requires_grad=True),\n",
              " Parameter containing:\n",
              " tensor([-0.1692], device='cuda:0', requires_grad=True)]"
            ]
          },
          "metadata": {},
          "execution_count": 28
        }
      ]
    },
    {
      "cell_type": "markdown",
      "source": [
        "3. Create a loss function and optimizer using nn.L1Loss() and torch.optim.SGD(params, lr) respectively.\n"
      ],
      "metadata": {
        "id": "90Hmy6GpWzfW"
      }
    },
    {
      "cell_type": "markdown",
      "source": [
        "1-Set the learning rate of the optimizer to be 0.01 and the parameters to optimize should be the model parameters from the model you created in 2.\n",
        "\n",
        "2-Write a training loop to perform the appropriate training steps for 300 epochs.\n",
        "\n",
        "3-The training loop should test the model on the test dataset every 20 epochs."
      ],
      "metadata": {
        "id": "Th52NS6uW1Qg"
      }
    },
    {
      "cell_type": "code",
      "source": [
        "# Create the loss function and optimizer\n",
        "loss = nn.L1Loss()\n",
        "optimizer = torch.optim.SGD(params = model.parameters(),lr = 0.01) #making the learning rate very small to avoid vernishing gradient problem"
      ],
      "metadata": {
        "id": "ljHQ5cNYTsTA"
      },
      "execution_count": 37,
      "outputs": []
    },
    {
      "cell_type": "code",
      "source": [
        "# Train model for 300 epochs\n",
        "torch.manual_seed(50)\n",
        "\n",
        "epochs = 300\n",
        "\n",
        "# Send data to target device\n",
        "X_train = X_train.to(device)\n",
        "X_test = X_test.to(device)\n",
        "y_train = y_train.to(device)\n",
        "y_test = y_test.to(device)\n",
        "\n",
        "for epoch in range(epochs):\n",
        "  ### Training\n",
        "\n",
        "  # Put model in train mode\n",
        "  model.train() #Model training\n",
        "\n",
        "  # 1. Forward pass\n",
        "  y_pred = model(X_train) # forward propagation\n",
        "\n",
        "  # 2. Calculate loss\n",
        "  los = loss(y_pred,y_train) #Difference between real and predicted value\n",
        "\n",
        "  # 3. Zero gradients\n",
        "  optimizer.zero_grad()\n",
        "\n",
        "  # 4. Backpropagation\n",
        "  los.backward()\n",
        "\n",
        "  # 5. Step the optimizer\n",
        "  optimizer.step()\n",
        "\n",
        "  ### Performing test after every 20 epoch as requires\n",
        "  if epoch % 20 == 0:\n",
        "    # Put model in evaluation mode and setup inference context\n",
        "    model.eval()\n",
        "    with torch.inference_mode():\n",
        "      # 1. Forward pass\n",
        "      y_preds = model(X_test)\n",
        "      # 2. Calculate test loss\n",
        "      test_loss = loss(y_preds,y_test)\n",
        "      # Print out what's happening\n",
        "      print(f\"Epoch: {epoch} | Train loss: {los:.3f} | Test loss: {test_loss:.3f}\")"
      ],
      "metadata": {
        "colab": {
          "base_uri": "https://localhost:8080/"
        },
        "id": "XfMRaMdfTsWQ",
        "outputId": "82ab5b7f-e9bb-4d27-c2fb-1120e4d339bc"
      },
      "execution_count": 38,
      "outputs": [
        {
          "output_type": "stream",
          "name": "stdout",
          "text": [
            "Epoch: 0 | Train loss: 0.982 | Test loss: 0.883\n",
            "Epoch: 20 | Train loss: 0.751 | Test loss: 0.612\n",
            "Epoch: 40 | Train loss: 0.520 | Test loss: 0.342\n",
            "Epoch: 60 | Train loss: 0.288 | Test loss: 0.071\n",
            "Epoch: 80 | Train loss: 0.116 | Test loss: 0.145\n",
            "Epoch: 100 | Train loss: 0.094 | Test loss: 0.195\n",
            "Epoch: 120 | Train loss: 0.086 | Test loss: 0.195\n",
            "Epoch: 140 | Train loss: 0.079 | Test loss: 0.183\n",
            "Epoch: 160 | Train loss: 0.073 | Test loss: 0.168\n",
            "Epoch: 180 | Train loss: 0.066 | Test loss: 0.152\n",
            "Epoch: 200 | Train loss: 0.059 | Test loss: 0.137\n",
            "Epoch: 220 | Train loss: 0.052 | Test loss: 0.122\n",
            "Epoch: 240 | Train loss: 0.045 | Test loss: 0.106\n",
            "Epoch: 260 | Train loss: 0.038 | Test loss: 0.090\n",
            "Epoch: 280 | Train loss: 0.031 | Test loss: 0.073\n"
          ]
        }
      ]
    },
    {
      "cell_type": "markdown",
      "source": [
        "4. Make predictions with the trained model on the test data."
      ],
      "metadata": {
        "id": "jPT6t7O6Z7qF"
      }
    },
    {
      "cell_type": "markdown",
      "source": [
        "1-Visualize these predictions against the original training and testing data (note: you may need to make sure the predictions are not on the GPU if you want to use non-CUDA-enabled libraries such as matplotlib to plot)."
      ],
      "metadata": {
        "id": "cAkAs9XKZ9hd"
      }
    },
    {
      "cell_type": "code",
      "source": [
        "#from the instruction the prediction would not be on GPU\n",
        "#Question\n",
        "# Make predictions with the model\n",
        "model.eval()\n",
        "\n",
        "with torch.inference_mode():\n",
        "  y_preds = model(X_test)\n",
        "y_preds\n"
      ],
      "metadata": {
        "colab": {
          "base_uri": "https://localhost:8080/"
        },
        "id": "FkguMqEaaElR",
        "outputId": "bce7c49a-9d8b-4dd8-caf8-14c3dea758a0"
      },
      "execution_count": 46,
      "outputs": [
        {
          "output_type": "execute_result",
          "data": {
            "text/plain": [
              "tensor([[1.1865],\n",
              "        [1.1907],\n",
              "        [1.1950],\n",
              "        [1.1992],\n",
              "        [1.2034],\n",
              "        [1.2076],\n",
              "        [1.2119],\n",
              "        [1.2161],\n",
              "        [1.2203],\n",
              "        [1.2245],\n",
              "        [1.2288],\n",
              "        [1.2330],\n",
              "        [1.2372],\n",
              "        [1.2414],\n",
              "        [1.2456],\n",
              "        [1.2499],\n",
              "        [1.2541],\n",
              "        [1.2583],\n",
              "        [1.2625],\n",
              "        [1.2668]], device='cuda:0')"
            ]
          },
          "metadata": {},
          "execution_count": 46
        }
      ]
    },
    {
      "cell_type": "code",
      "source": [
        "# Plot the predictions (these may need to be on a specific device)\n",
        "plot(predictions = y_preds.cpu()) #without disconnecting my GPU"
      ],
      "metadata": {
        "colab": {
          "base_uri": "https://localhost:8080/",
          "height": 599
        },
        "id": "dEmWdb5QeCPd",
        "outputId": "30b9942d-1ae0-42e5-fa0f-950ffcea9a38"
      },
      "execution_count": 47,
      "outputs": [
        {
          "output_type": "display_data",
          "data": {
            "text/plain": [
              "<Figure size 1000x700 with 1 Axes>"
            ],
            "image/png": "[encoded data removed]"
          },
          "metadata": {}
        }
      ]
    },
    {
      "cell_type": "markdown",
      "source": [
        "5. Save your trained model's state_dict() to file."
      ],
      "metadata": {
        "id": "1zfnzk5MdEWo"
      }
    },
    {
      "cell_type": "markdown",
      "source": [
        "1-Create a new instance of your model class you made in 2. and load in the state_dict() you just saved to it.\n",
        "\n",
        "2- Perform predictions on your test data with the loaded model and confirm they match the original model predictions from 4."
      ],
      "metadata": {
        "id": "40M2Zep6dFes"
      }
    },
    {
      "cell_type": "code",
      "source": [
        "from pathlib import Path\n",
        "\n",
        "# 1. Create models directory\n",
        "MODEL_PATH = Path(\"models\")\n",
        "MODEL_PATH.mkdir(parents = True,exist_ok = True)\n",
        "# 2. Create model save path\n",
        "MODEL_NAME = \"model_1\"\n",
        "MODEL_SAVE_PATH = MODEL_PATH / MODEL_NAME\n",
        "# 3. Save the model state dict\n",
        "torch.save(obj = model.state_dict(),f = MODEL_SAVE_PATH)\n",
        ""
      ],
      "metadata": {
        "id": "ltE73Q9udUCE"
      },
      "execution_count": 48,
      "outputs": []
    },
    {
      "cell_type": "code",
      "source": [
        "# Create new instance of model and load saved state dict (make sure to put it on the target device)\n",
        "model_2 = LinearRegressionModel()\n",
        "model_2.load_state_dict(torch.load(f = MODEL_SAVE_PATH))\n",
        "model_2.to(device)"
      ],
      "metadata": {
        "colab": {
          "base_uri": "https://localhost:8080/"
        },
        "id": "knQMZGs1Yq4t",
        "outputId": "e924e517-3649-4563-cbb6-ca81d9a46d36"
      },
      "execution_count": 49,
      "outputs": [
        {
          "output_type": "execute_result",
          "data": {
            "text/plain": [
              "LinearRegressionModel()"
            ]
          },
          "metadata": {},
          "execution_count": 49
        }
      ]
    },
    {
      "cell_type": "code",
      "source": [
        "# Make predictions with loaded model and compare them to the previous\n",
        "y_preds_new = model_2(X_test) #making predicton with the second mode\n",
        "y_preds == y_preds_new #comparing the two predicted value it will return bollean value"
      ],
      "metadata": {
        "colab": {
          "base_uri": "https://localhost:8080/"
        },
        "id": "2gkyaeObYq9H",
        "outputId": "28cc1777-caf9-4a7c-cae7-2b25fea7a36d"
      },
      "execution_count": 51,
      "outputs": [
        {
          "output_type": "execute_result",
          "data": {
            "text/plain": [
              "tensor([[True],\n",
              "        [True],\n",
              "        [True],\n",
              "        [True],\n",
              "        [True],\n",
              "        [True],\n",
              "        [True],\n",
              "        [True],\n",
              "        [True],\n",
              "        [True],\n",
              "        [True],\n",
              "        [True],\n",
              "        [True],\n",
              "        [True],\n",
              "        [True],\n",
              "        [True],\n",
              "        [True],\n",
              "        [True],\n",
              "        [True],\n",
              "        [True]], device='cuda:0')"
            ]
          },
          "metadata": {},
          "execution_count": 51
        }
      ]
    }
  ]
}